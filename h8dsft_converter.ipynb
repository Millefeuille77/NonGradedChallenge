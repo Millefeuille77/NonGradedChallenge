{
 "cells": [
  {
   "cell_type": "code",
   "execution_count": 5,
   "metadata": {},
   "outputs": [
    {
     "name": "stdout",
     "output_type": "stream",
     "text": [
      "Hasil Konversi Celcius ke Kelvin  313.15\n",
      "Hasil Konversi Kelvin ke Celcius -223.14999999999998\n"
     ]
    }
   ],
   "source": [
    "def ConverterCelcius (x): #function for converting Celcius to Kelvin\n",
    "    Celcius = x + 273.15 #conversion formula Celcius to Kelvin\n",
    "    return Celcius\n",
    "\n",
    "c = float (input (\"Masukkan suhu Celcius: \")) #input temperature in Celcius degree\n",
    "\n",
    "ConversionC = ConverterCelcius(c) #calling function\n",
    "print(\"Hasil Konversi Celcius ke Kelvin \", ConversionC) "
   ]
  },
  {
   "cell_type": "code",
   "execution_count": null,
   "metadata": {},
   "outputs": [],
   "source": [
    "def ConverterKelvin (y): #function for converting Kelvin to Celcius\n",
    "    Kelvin = y - 273.15 #conversion formula Kelvin to Celcius\n",
    "    return Kelvin\n",
    "\n",
    "k = float(input(\"Masukkan suhu Kelvin: \")) #input temperature in Kelvin degree\n",
    "ConversionK = ConverterKelvin(k) #calling function\n",
    "print(\"Hasil Konversi Kelvin ke Celcius\", ConversionK)"
   ]
  },
  {
   "cell_type": "code",
   "execution_count": 6,
   "metadata": {},
   "outputs": [
    {
     "name": "stdout",
     "output_type": "stream",
     "text": [
      "Hasil Konversi Fahrenheit ke Kelvin 313.15\n"
     ]
    }
   ],
   "source": [
    "def ConverterFK (z): #function for converting Fahrenheit to Kelvin\n",
    "    FtoK = z + 273.15 #conversion formula Fahrenheit to Kelvin\n",
    "    return FtoK\n",
    "\n",
    "fk = float(input(\"Masukkan suhu Fahrenheit: \")) #input temperature in Fahrenheit degree\n",
    "ConversionFK  = ConverterFK(fk) #calling function\n",
    "print(\"Hasil Konversi Fahrenheit ke Kelvin\", ConversionFK)"
   ]
  },
  {
   "cell_type": "code",
   "execution_count": 12,
   "metadata": {},
   "outputs": [
    {
     "name": "stdout",
     "output_type": "stream",
     "text": [
      "Hasil Konversi Fahrenheit ke Celcius -1.1111111111111112\n"
     ]
    }
   ],
   "source": [
    "def ConverterFC (w): #function for converting Fahrenheit to Celcius\n",
    "    FtoC = (w-32) * (5/9) #conversion formula Fahrenheit to Celcius\n",
    "    return FtoC\n",
    "\n",
    "fc = float(input(\"Masukkan suhu Fahrenheit: \")) #input temperature in Fahrenheit degree\n",
    "ConversionFC  = ConverterFC(fc) #calling function\n",
    "print(\"Hasil Konversi Fahrenheit ke Celcius\", ConversionFC)"
   ]
  },
  {
   "cell_type": "code",
   "execution_count": null,
   "metadata": {},
   "outputs": [],
   "source": []
  }
 ],
 "metadata": {
  "kernelspec": {
   "display_name": "Python 3.9.12 ('base')",
   "language": "python",
   "name": "python3"
  },
  "language_info": {
   "codemirror_mode": {
    "name": "ipython",
    "version": 3
   },
   "file_extension": ".py",
   "mimetype": "text/x-python",
   "name": "python",
   "nbconvert_exporter": "python",
   "pygments_lexer": "ipython3",
   "version": "3.9.12"
  },
  "orig_nbformat": 4,
  "vscode": {
   "interpreter": {
    "hash": "3edaea292c0121a4edf57fb9b1fd8f07f262e12aa8a67f7e3de01891f262632f"
   }
  }
 },
 "nbformat": 4,
 "nbformat_minor": 2
}
